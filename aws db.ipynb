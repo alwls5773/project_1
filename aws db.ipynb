{
 "cells": [
  {
   "cell_type": "code",
   "execution_count": 4,
   "id": "c6ca4795-cf4f-4dda-9423-f56eb73c1756",
   "metadata": {},
   "outputs": [
    {
     "name": "stdout",
     "output_type": "stream",
     "text": [
      "Requirement already satisfied: pymysql in c:\\users\\user\\appdata\\local\\programs\\python\\python311\\lib\\site-packages (1.1.0)\n",
      "Note: you may need to restart the kernel to use updated packages.\n"
     ]
    },
    {
     "name": "stderr",
     "output_type": "stream",
     "text": [
      "\n",
      "[notice] A new release of pip is available: 23.2.1 -> 24.0\n",
      "[notice] To update, run: python.exe -m pip install --upgrade pip\n"
     ]
    }
   ],
   "source": [
    "pip install pymysql"
   ]
  },
  {
   "cell_type": "markdown",
   "id": "3669e60f-a571-4d76-9948-a83f3741b3c6",
   "metadata": {},
   "source": [
    "## 데이터 테이블 생성"
   ]
  },
  {
   "cell_type": "code",
   "execution_count": 3,
   "id": "b6a41f96-7b4c-470e-86c3-6037a2eb26f6",
   "metadata": {},
   "outputs": [
    {
     "name": "stdout",
     "output_type": "stream",
     "text": [
      "Table 'fingerbics' created successfully!\n"
     ]
    }
   ],
   "source": [
    "import pymysql\n",
    "\n",
    "# MySQL 연결 정보\n",
    "HOST = 'database-1.cje86assyv2g.ap-northeast-2.rds.amazonaws.com'\n",
    "USER = 'admin'\n",
    "PASSWORD = 'sessac123'\n",
    "DATABASE = 'databse12'\n",
    "\n",
    "# 데이터베이스 연결\n",
    "conn = pymysql.connect(host=HOST, user=USER, password=PASSWORD, database=DATABASE)\n",
    "cursor = conn.cursor()\n",
    "\n",
    "# 테이블 생성 쿼리\n",
    "create_table_query = '''\n",
    "CREATE TABLE fingerbics (\n",
    "  user_id INT AUTO_INCREMENT PRIMARY KEY,\n",
    "  name VARCHAR(255),\n",
    "  success_count1 INT(11) NOT NULL,\n",
    "  success_count2 INT(11) NOT NULL,\n",
    "  success_count3 INT(11) NOT NULL,\n",
    "  datetime DATETIME NOT NULL,\n",
    "  FOREIGN KEY (name) REFERENCES user_info(name)\n",
    ")\n",
    "'''\n",
    "try:\n",
    "    # 쿼리 실행\n",
    "    cursor.execute(create_table_query)\n",
    "    print(\"Table 'fingerbics' created successfully!\")\n",
    "except pymysql.Error as e:\n",
    "    print(f\"Error creating table: {e}\")\n",
    "\n",
    "# 연결 종료\n",
    "conn.close()\n",
    "\n"
   ]
  },
  {
   "cell_type": "code",
   "execution_count": 10,
   "id": "c9fa36e2-8756-455b-b959-e6f11903b7d1",
   "metadata": {},
   "outputs": [
    {
     "name": "stdout",
     "output_type": "stream",
     "text": [
      "Table 'user_info' created successfully!\n"
     ]
    }
   ],
   "source": [
    "import pymysql\n",
    "\n",
    "# MySQL 연결 정보\n",
    "HOST = 'database-1.cje86assyv2g.ap-northeast-2.rds.amazonaws.com'\n",
    "USER = 'admin'\n",
    "PASSWORD = 'sessac123'\n",
    "DATABASE = 'databse12'\n",
    "\n",
    "# 데이터베이스 연결\n",
    "conn = pymysql.connect(host=HOST, user=USER, password=PASSWORD, database=DATABASE)\n",
    "cursor = conn.cursor()\n",
    "\n",
    "# 테이블 생성 쿼리\n",
    "create_table_query = '''\n",
    "CREATE TABLE user_info (\n",
    "  name VARCHAR(255)\n",
    ")\n",
    "'''\n",
    "\n",
    "try:\n",
    "    # 쿼리 실행\n",
    "    cursor.execute(create_table_query)\n",
    "    print(\"Table 'user_info' created successfully!\")\n",
    "except pymysql.Error as e:\n",
    "    print(f\"Error creating table: {e}\")\n",
    "\n",
    "# 연결 종료\n",
    "conn.close()"
   ]
  },
  {
   "cell_type": "code",
   "execution_count": 16,
   "id": "e1f584cf-825f-4764-bafb-f631dca4af3e",
   "metadata": {},
   "outputs": [
    {
     "name": "stdout",
     "output_type": "stream",
     "text": [
      "Index 'idx_name' created successfully!\n"
     ]
    }
   ],
   "source": [
    "import pymysql\n",
    "\n",
    "# MySQL 연결 정보\n",
    "HOST = 'database-1.cje86assyv2g.ap-northeast-2.rds.amazonaws.com'\n",
    "USER = 'admin'\n",
    "PASSWORD = 'sessac123'\n",
    "DATABASE = 'databse12'\n",
    "\n",
    "# 데이터베이스 연결\n",
    "conn = pymysql.connect(host=HOST, user=USER, password=PASSWORD, database=DATABASE)\n",
    "cursor = conn.cursor()\n",
    "\n",
    "# user_info 테이블에 인덱스 생성\n",
    "create_index_query = '''\n",
    "CREATE INDEX idx_name ON user_info (name);\n",
    "'''\n",
    "\n",
    "try:\n",
    "    # 쿼리 실행\n",
    "    cursor.execute(create_index_query)\n",
    "    print(\"Index 'idx_name' created successfully!\")\n",
    "except pymysql.Error as e:\n",
    "    print(f\"Error creating index: {e}\")"
   ]
  },
  {
   "cell_type": "markdown",
   "id": "6b593559-f3b5-4574-8bf4-324f66d8c474",
   "metadata": {},
   "source": [
    "## 데이터 테이블 df로 확인"
   ]
  },
  {
   "cell_type": "code",
   "execution_count": 5,
   "id": "1e209a23-513c-4333-89ca-ca61ad292b91",
   "metadata": {
    "scrolled": true
   },
   "outputs": [
    {
     "name": "stderr",
     "output_type": "stream",
     "text": [
      "C:\\Users\\user\\AppData\\Local\\Temp\\ipykernel_14968\\2995542133.py:18: UserWarning: pandas only supports SQLAlchemy connectable (engine/connection) or database string URI or sqlite3 DBAPI2 connection. Other DBAPI2 objects are not tested. Please consider using SQLAlchemy.\n",
      "  df = pd.read_sql(query, conn)\n"
     ]
    },
    {
     "data": {
      "text/html": [
       "<div>\n",
       "<style scoped>\n",
       "    .dataframe tbody tr th:only-of-type {\n",
       "        vertical-align: middle;\n",
       "    }\n",
       "\n",
       "    .dataframe tbody tr th {\n",
       "        vertical-align: top;\n",
       "    }\n",
       "\n",
       "    .dataframe thead th {\n",
       "        text-align: right;\n",
       "    }\n",
       "</style>\n",
       "<table border=\"1\" class=\"dataframe\">\n",
       "  <thead>\n",
       "    <tr style=\"text-align: right;\">\n",
       "      <th></th>\n",
       "      <th>name</th>\n",
       "    </tr>\n",
       "  </thead>\n",
       "  <tbody>\n",
       "    <tr>\n",
       "      <th>0</th>\n",
       "      <td>김미진</td>\n",
       "    </tr>\n",
       "    <tr>\n",
       "      <th>1</th>\n",
       "      <td>송명주</td>\n",
       "    </tr>\n",
       "    <tr>\n",
       "      <th>2</th>\n",
       "      <td>이송현</td>\n",
       "    </tr>\n",
       "    <tr>\n",
       "      <th>3</th>\n",
       "      <td>정지원</td>\n",
       "    </tr>\n",
       "  </tbody>\n",
       "</table>\n",
       "</div>"
      ],
      "text/plain": [
       "  name\n",
       "0  김미진\n",
       "1  송명주\n",
       "2  이송현\n",
       "3  정지원"
      ]
     },
     "execution_count": 5,
     "metadata": {},
     "output_type": "execute_result"
    }
   ],
   "source": [
    "import pymysql\n",
    "import pandas as pd\n",
    "\n",
    "# MySQL 연결 정보\n",
    "HOST = 'database-1.cje86assyv2g.ap-northeast-2.rds.amazonaws.com'\n",
    "USER = 'admin'\n",
    "PASSWORD = 'sessac123'\n",
    "DATABASE = 'databse12'\n",
    "\n",
    "# 데이터베이스 연결\n",
    "conn = pymysql.connect(host=HOST, user=USER, password=PASSWORD, database=DATABASE)\n",
    "\n",
    "# SQL 쿼리\n",
    "query = \"SELECT * FROM user_info\"\n",
    "\n",
    "try:\n",
    "    # 쿼리 실행하여 데이터프레임으로 가져오기\n",
    "    df = pd.read_sql(query, conn)\n",
    "\n",
    "except pymysql.Error as e:\n",
    "    print(f\"Error executing query: {e}\")\n",
    "\n",
    "# 연결 종료\n",
    "conn.close()\n",
    "\n",
    "df"
   ]
  },
  {
   "cell_type": "code",
   "execution_count": 10,
   "id": "67cb861c-3de1-4676-bba0-737f9f37723c",
   "metadata": {},
   "outputs": [
    {
     "name": "stdout",
     "output_type": "stream",
     "text": [
      "   user_id name  success_count1  success_count2  success_count3  \\\n",
      "0        1  김미진               3               3               0   \n",
      "1        2  정지원               2               0               0   \n",
      "\n",
      "             datetime  \n",
      "0 2024-03-05 11:45:06  \n",
      "1 2024-03-05 11:51:55  \n"
     ]
    },
    {
     "name": "stderr",
     "output_type": "stream",
     "text": [
      "C:\\Users\\user\\AppData\\Local\\Temp\\ipykernel_14968\\2858598527.py:18: UserWarning: pandas only supports SQLAlchemy connectable (engine/connection) or database string URI or sqlite3 DBAPI2 connection. Other DBAPI2 objects are not tested. Please consider using SQLAlchemy.\n",
      "  df = pd.read_sql(query, conn)\n"
     ]
    },
    {
     "data": {
      "text/html": [
       "<div>\n",
       "<style scoped>\n",
       "    .dataframe tbody tr th:only-of-type {\n",
       "        vertical-align: middle;\n",
       "    }\n",
       "\n",
       "    .dataframe tbody tr th {\n",
       "        vertical-align: top;\n",
       "    }\n",
       "\n",
       "    .dataframe thead th {\n",
       "        text-align: right;\n",
       "    }\n",
       "</style>\n",
       "<table border=\"1\" class=\"dataframe\">\n",
       "  <thead>\n",
       "    <tr style=\"text-align: right;\">\n",
       "      <th></th>\n",
       "      <th>user_id</th>\n",
       "      <th>name</th>\n",
       "      <th>success_count1</th>\n",
       "      <th>success_count2</th>\n",
       "      <th>success_count3</th>\n",
       "      <th>datetime</th>\n",
       "    </tr>\n",
       "  </thead>\n",
       "  <tbody>\n",
       "    <tr>\n",
       "      <th>0</th>\n",
       "      <td>1</td>\n",
       "      <td>김미진</td>\n",
       "      <td>3</td>\n",
       "      <td>3</td>\n",
       "      <td>0</td>\n",
       "      <td>2024-03-05 11:45:06</td>\n",
       "    </tr>\n",
       "    <tr>\n",
       "      <th>1</th>\n",
       "      <td>2</td>\n",
       "      <td>정지원</td>\n",
       "      <td>2</td>\n",
       "      <td>0</td>\n",
       "      <td>0</td>\n",
       "      <td>2024-03-05 11:51:55</td>\n",
       "    </tr>\n",
       "  </tbody>\n",
       "</table>\n",
       "</div>"
      ],
      "text/plain": [
       "   user_id name  success_count1  success_count2  success_count3  \\\n",
       "0        1  김미진               3               3               0   \n",
       "1        2  정지원               2               0               0   \n",
       "\n",
       "             datetime  \n",
       "0 2024-03-05 11:45:06  \n",
       "1 2024-03-05 11:51:55  "
      ]
     },
     "execution_count": 10,
     "metadata": {},
     "output_type": "execute_result"
    }
   ],
   "source": [
    "import pymysql\n",
    "import pandas as pd\n",
    "\n",
    "# MySQL 연결 정보\n",
    "HOST = 'database-1.cje86assyv2g.ap-northeast-2.rds.amazonaws.com'\n",
    "USER = 'admin'\n",
    "PASSWORD = 'sessac123'\n",
    "DATABASE = 'databse12'\n",
    "\n",
    "# 데이터베이스 연결\n",
    "conn = pymysql.connect(host=HOST, user=USER, password=PASSWORD, database=DATABASE)\n",
    "\n",
    "# SQL 쿼리\n",
    "query = \"SELECT * FROM fingerbics\"\n",
    "\n",
    "try:\n",
    "    # 쿼리 실행하여 데이터프레임으로 가져오기\n",
    "    df = pd.read_sql(query, conn)\n",
    "    \n",
    "    # 결과 출력\n",
    "    print(df)\n",
    "\n",
    "except pymysql.Error as e:\n",
    "    print(f\"Error executing query: {e}\")\n",
    "\n",
    "# 연결 종료\n",
    "conn.close()\n",
    "\n",
    "df"
   ]
  },
  {
   "cell_type": "markdown",
   "id": "a2522b93-9095-4da6-be69-117ec9cf7176",
   "metadata": {},
   "source": [
    "## 테이터 테이블에 데이터 삽입"
   ]
  },
  {
   "cell_type": "code",
   "execution_count": 14,
   "id": "81bbc9db-0e13-46c0-9cd8-e5451c2db070",
   "metadata": {},
   "outputs": [
    {
     "name": "stdout",
     "output_type": "stream",
     "text": [
      "Data inserted successfully!\n"
     ]
    }
   ],
   "source": [
    "import pymysql\n",
    "\n",
    "# MySQL 연결 정보\n",
    "HOST = 'database-1.cje86assyv2g.ap-northeast-2.rds.amazonaws.com'\n",
    "USER = 'admin'\n",
    "PASSWORD = 'sessac123'\n",
    "DATABASE = 'databse12'\n",
    "\n",
    "# 데이터베이스 연결\n",
    "conn = pymysql.connect(host=HOST, user=USER, password=PASSWORD, database=DATABASE)\n",
    "cursor = conn.cursor()\n",
    "\n",
    "# 삽입할 데이터\n",
    "data_to_insert = [\n",
    "    ( '김미진'),\n",
    "    ( '송명주'),\n",
    "    ( '이송현'),\n",
    "    ( '정지원')\n",
    "]\n",
    "\n",
    "# 삽입 쿼리\n",
    "insert_query = \"INSERT INTO user_info (name) VALUES ( %s)\"\n",
    "\n",
    "try:\n",
    "    # 데이터 삽입\n",
    "    cursor.executemany(insert_query, data_to_insert)\n",
    "    \n",
    "    # 변경사항 커밋\n",
    "    conn.commit()\n",
    "    \n",
    "    print(\"Data inserted successfully!\")\n",
    "except pymysql.Error as e:\n",
    "    # 변경사항 롤백\n",
    "    conn.rollback()\n",
    "    print(f\"Error inserting data: {e}\")\n",
    "\n",
    "# 연결 종료\n",
    "conn.close()\n"
   ]
  },
  {
   "cell_type": "markdown",
   "id": "1482f699-cf81-4eaa-8bbb-37479dc3a248",
   "metadata": {},
   "source": [
    "## 테이터 테이블 지우기"
   ]
  },
  {
   "cell_type": "code",
   "execution_count": 2,
   "id": "f13f5e74-f70e-4f97-884f-10ea45574dda",
   "metadata": {},
   "outputs": [
    {
     "name": "stdout",
     "output_type": "stream",
     "text": [
      "Table 'fingerbics' dropped successfully!\n"
     ]
    }
   ],
   "source": [
    "import pymysql\n",
    "\n",
    "# MySQL 연결 정보\n",
    "HOST = 'database-1.cje86assyv2g.ap-northeast-2.rds.amazonaws.com'\n",
    "USER = 'admin'\n",
    "PASSWORD = 'sessac123'\n",
    "DATABASE = 'databse12'\n",
    "\n",
    "# 데이터베이스 연결\n",
    "conn = pymysql.connect(host=HOST, user=USER, password=PASSWORD, database=DATABASE)\n",
    "cursor = conn.cursor()\n",
    "\n",
    "# 삭제할 테이블 이름\n",
    "table_name = 'fingerbics'\n",
    "\n",
    "# 테이블 삭제 쿼리\n",
    "drop_table_query = f\"DROP TABLE IF EXISTS {table_name}\"\n",
    "\n",
    "try:\n",
    "    # 쿼리 실행\n",
    "    cursor.execute(drop_table_query)\n",
    "    print(f\"Table '{table_name}' dropped successfully!\")\n",
    "except pymysql.Error as e:\n",
    "    print(f\"Error dropping table: {e}\")\n",
    "\n",
    "# 연결 종료\n",
    "conn.close()\n"
   ]
  },
  {
   "cell_type": "code",
   "execution_count": 8,
   "id": "62830d09-635c-4c81-b3ba-1899504befab",
   "metadata": {},
   "outputs": [
    {
     "name": "stdout",
     "output_type": "stream",
     "text": [
      " * Serving Flask app '__main__'\n",
      " * Debug mode: on\n"
     ]
    },
    {
     "name": "stderr",
     "output_type": "stream",
     "text": [
      "WARNING: This is a development server. Do not use it in a production deployment. Use a production WSGI server instead.\n",
      " * Running on http://127.0.0.1:5000\n",
      "Press CTRL+C to quit\n",
      " * Restarting with stat\n"
     ]
    },
    {
     "ename": "SystemExit",
     "evalue": "1",
     "output_type": "error",
     "traceback": [
      "An exception has occurred, use %tb to see the full traceback.\n",
      "\u001b[1;31mSystemExit\u001b[0m\u001b[1;31m:\u001b[0m 1\n"
     ]
    },
    {
     "name": "stderr",
     "output_type": "stream",
     "text": [
      "C:\\Users\\user\\AppData\\Local\\Programs\\Python\\Python311\\Lib\\site-packages\\IPython\\core\\interactiveshell.py:3561: UserWarning: To exit: use 'exit', 'quit', or Ctrl-D.\n",
      "  warn(\"To exit: use 'exit', 'quit', or Ctrl-D.\", stacklevel=1)\n"
     ]
    }
   ],
   "source": [
    "from flask import Flask, jsonify\n",
    "\n",
    "import pymysql\n",
    "\n",
    "app = Flask(__name__)\n",
    "\n",
    "# MySQL 연결 정보\n",
    "HOST = 'database-1.cje86assyv2g.ap-northeast-2.rds.amazonaws.com'\n",
    "USER = 'admin'\n",
    "PASSWORD = 'sessac123'\n",
    "DATABASE = 'databse12'\n",
    "        # conn = pymysql.connect(host=HOST, user=USER, password=PASSWORD, database=DATABASE)\n",
    "        # cursor = conn.cursor()\n",
    "@app.route('/insert_data')\n",
    "def insert_data():\n",
    "    try:\n",
    "        # 데이터베이스 연결\n",
    "        conn = pymysql.connect(host=HOST, user=USER, password=PASSWORD, database=DATABASE)\n",
    "        cursor = conn.cursor()\n",
    "        data_to_insert = [\n",
    "            ('이송현', '3', '3', '2', '2024-03-05 11:55:06'),\n",
    "            ('김미진', '3', '3', '2', '2024-03-06 12:45:06'),\n",
    "            ('송명주', '2', '0', '0', '2024-03-06 09:45:06'),\n",
    "            ('정지원', '3', '3', '3', '2024-03-07 11:45:06'),\n",
    "        ]\n",
    "        \n",
    "        # 삽입 쿼리\n",
    "        insert_query = \"INSERT INTO users ( success_count1, success_count2, success_count3) VALUES ( %s, %s, %s, %s, %s)\"\n",
    "        # 데이터 삽입\n",
    "        cursor.executemany(insert_query, data_to_insert)\n",
    "        \n",
    "        # 변경사항 커밋\n",
    "        conn.commit()\n",
    "        \n",
    "        return jsonify({\"message\": \"Data inserted successfully!\"}), 200\n",
    "    except pymysql.Error as e:\n",
    "        # 변경사항 롤백\n",
    "        if 'conn' in locals():\n",
    "            conn.rollback()\n",
    "        return jsonify({\"error\": f\"Error inserting data: {e}\"}), 500\n",
    "    finally:\n",
    "        # 연결 종료\n",
    "        if 'conn' in locals():\n",
    "            conn.close()\n",
    "\n",
    "if __name__ == '__main__':\n",
    "    app.run(debug=True)\n"
   ]
  },
  {
   "cell_type": "code",
   "execution_count": null,
   "id": "04a793bc-d8b1-4748-a8cd-e73b2eeac5d8",
   "metadata": {},
   "outputs": [],
   "source": []
  }
 ],
 "metadata": {
  "kernelspec": {
   "display_name": "Python 3 (ipykernel)",
   "language": "python",
   "name": "python3"
  },
  "language_info": {
   "codemirror_mode": {
    "name": "ipython",
    "version": 3
   },
   "file_extension": ".py",
   "mimetype": "text/x-python",
   "name": "python",
   "nbconvert_exporter": "python",
   "pygments_lexer": "ipython3",
   "version": "3.11.7"
  }
 },
 "nbformat": 4,
 "nbformat_minor": 5
}
